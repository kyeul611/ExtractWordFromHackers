{
 "cells": [
  {
   "cell_type": "code",
   "execution_count": 1,
   "id": "876283e6-933a-43c5-8eae-d61faed74d49",
   "metadata": {},
   "outputs": [],
   "source": [
    "import pdftotext\n",
    "import pandas as pd\n",
    "import re\n",
    "import os"
   ]
  },
  {
   "cell_type": "code",
   "execution_count": 27,
   "id": "d48af059-74af-4ded-9a35-5affed174fb9",
   "metadata": {},
   "outputs": [],
   "source": [
    "path = './test_papers'\n",
    "stop = ['Powered by TCPDF wwwtcpdforg']"
   ]
  },
  {
   "cell_type": "code",
   "execution_count": 24,
   "id": "66d0e2fe-1c37-4340-b85d-2ce530028507",
   "metadata": {},
   "outputs": [
    {
     "name": "stdout",
     "output_type": "stream",
     "text": [
      "** File list **\n",
      "3 오후 7.45.34.pdf\n",
      "[' 만족해하는, 기쁜', ' 저해하다, 방해하다', ' 이끌다, 어떤 결과에이르다', ' 특정한', ' 붐, 호황', ' A가 아니라 B다', ' 던지다, 드리우다', ' 제한된, 한정된', ' 값가치가 하락하다', ' 낙관적인', ' 잠재적인', ' 경기; 경제', ' 다르게, 별도로', ' 가맹 사업; 독점판매권', ' 시작', ' 유망한, 전망이 좋은', ' 불황', ' 호황의, 활발한', ' 산업의', ' 오르내리는, 기복이 있는']\n",
      "20\n",
      "2 오후 7.45.34.pdf\n",
      "[' 가득 찬, 완전한', ' 호기심 많은, 궁금해하는', ' 주로, 원래', ' 사진가', ' 소홀히 하다, 무시하다', ' 신념, 믿음', ' 전략', ' 사용되는', ' 베스트셀러 작가', ' 방법, 수단', ' 반드시', ' 잠깐 들르다', ' 즉각적으로, 즉시', ' 착실하게; 꾸준히', ' 부재; 결석, 결근', ' 창조적인, 독창적인', ' 다른 것보다 을 더좋아하다', ' 구멍, 틈', ' 모두 합해, 총', ' 에 속하다, 의소유물이다']\n",
      "20\n",
      "4 오후 7.45.34.pdf\n",
      "[' 선글라스', ' 백화점', ' 노점상, 가판대, 판매업체', ' 상표, 브랜드', ' 환불, 환불금', ' 정확히', ' 주의 깊게, 신중히', ' 공식적으로', ' 아끼다, 할애하다', ' 은행상점호텔 등의 출납원', ' 제공하다', ' 가격', ' 가게', ' 욕구, 갈망', ' 지역, 구역', ' 전시하다, 진열하다', ' 구매하다', ' 품질 등의 보증,보증서', ' 상대적으로', ' 슈퍼마켓']\n",
      "20\n",
      "1.pdf\n",
      "[' 고맙게 생각하다; 높이평가하다', ' 도구', ' 격식에 얽매이지 않는,편안한', ' 조사하다', ' 예상, 기대', ' 운동, 캠페인', ' 사다, 구입하다', ' 찾아내다', ' 전시된, 진열된', ' 응답자', ' 설문 조사', ' 예약하다, 지정하다; 보존하다', ' 에 근거하다', ' 있는 그대로', ' 경쟁을 하는, 경쟁력있는', ' 설명; 드러냄, 시연', ' 을 잘 알고 있다,에 익숙하다', ' 에 영향을 미치다', ' 집중시키다, 집중하다', ' 시도하다']\n",
      "20\n"
     ]
    }
   ],
   "source": [
    "listdir = os.listdir(path)\n",
    "print(\"** File list **\")\n",
    "for file in listdir:\n",
    "    if file.split('.')[-1] == 'pdf':\n",
    "        print(file)\n",
    "        with open(os.path.join(path, file), 'rb') as pdf:\n",
    "            content = pdftotext.PDF(pdf)\n",
    "            extKor = re.sub(\"[0-9]\", \"㉿\", content[0])\n",
    "            extKor = re.sub(\"[^가-힣AB ,\\;㉿]\",\"\", extKor)\n",
    "            extKor = re.sub(\" +\", \" \", extKor).split('㉿')\n",
    "            extKor = list(filter(None, extKor))[4:]\n",
    "            print(extKor)\n",
    "            print(len(extKor))"
   ]
  },
  {
   "cell_type": "code",
   "execution_count": 33,
   "id": "208d0b2a-65b9-43a5-be2a-3e65f22a3c83",
   "metadata": {},
   "outputs": [
    {
     "data": {
      "text/plain": [
       "[' 고맙게 생각하다; 높이평가하다',\n",
       " ' 도구',\n",
       " ' 격식에 얽매이지 않는,편안한',\n",
       " ' 조사하다',\n",
       " ' 예상, 기대',\n",
       " ' 운동, 캠페인',\n",
       " ' 사다, 구입하다',\n",
       " ' 찾아내다',\n",
       " ' 전시된, 진열된',\n",
       " ' 응답자',\n",
       " ' 설문 조사',\n",
       " ' 예약하다, 지정하다; 보존하다',\n",
       " ' 에 근거하다',\n",
       " ' 있는 그대로',\n",
       " ' 경쟁을 하는, 경쟁력있는',\n",
       " ' 설명; 드러냄, 시연',\n",
       " ' 을 잘 알고 있다,에 익숙하다',\n",
       " ' 에 영향을 미치다',\n",
       " ' 집중시키다, 집중하다',\n",
       " ' 시도하다']"
      ]
     },
     "execution_count": 33,
     "metadata": {},
     "output_type": "execute_result"
    }
   ],
   "source": [
    "extKor"
   ]
  },
  {
   "cell_type": "code",
   "execution_count": 34,
   "id": "15f58e2f-1b58-4cc2-ab97-15733da68edc",
   "metadata": {},
   "outputs": [
    {
     "data": {
      "text/plain": [
       "[' appreciate',\n",
       " ' tool',\n",
       " ' informal',\n",
       " ' examine',\n",
       " ' expectation',\n",
       " ' campaign',\n",
       " ' buy',\n",
       " ' find out',\n",
       " ' on display',\n",
       " ' respondent',\n",
       " ' survey',\n",
       " ' reserve',\n",
       " ' be based on',\n",
       " ' as it is',\n",
       " ' competitive',\n",
       " ' demonstration',\n",
       " ' be familiar with',\n",
       " ' affect',\n",
       " ' focus',\n",
       " ' attemptPowered by TCPDF wwwtcpdforg']"
      ]
     },
     "execution_count": 34,
     "metadata": {},
     "output_type": "execute_result"
    }
   ],
   "source": [
    "extEng"
   ]
  },
  {
   "cell_type": "code",
   "execution_count": 41,
   "id": "96769fc2-d7e7-4f81-9384-c5907e0a6079",
   "metadata": {},
   "outputs": [
    {
     "ename": "TypeError",
     "evalue": "object of type 'bool' has no len()",
     "output_type": "error",
     "traceback": [
      "\u001b[0;31m---------------------------------------------------------------------------\u001b[0m",
      "\u001b[0;31mTypeError\u001b[0m                                 Traceback (most recent call last)",
      "\u001b[0;32m<ipython-input-41-a0ca1cbebc2d>\u001b[0m in \u001b[0;36m<module>\u001b[0;34m\u001b[0m\n\u001b[0;32m----> 1\u001b[0;31m \u001b[0mpd\u001b[0m\u001b[0;34m.\u001b[0m\u001b[0mDataFrame\u001b[0m\u001b[0;34m(\u001b[0m\u001b[0mlist\u001b[0m\u001b[0;34m(\u001b[0m\u001b[0mzip\u001b[0m\u001b[0;34m(\u001b[0m\u001b[0mextKor\u001b[0m\u001b[0;34m,\u001b[0m \u001b[0mextEng\u001b[0m\u001b[0;34m)\u001b[0m\u001b[0;34m)\u001b[0m\u001b[0;34m,\u001b[0m \u001b[0mcolumns\u001b[0m\u001b[0;34m=\u001b[0m\u001b[0;32mFalse\u001b[0m\u001b[0;34m)\u001b[0m\u001b[0;34m\u001b[0m\u001b[0;34m\u001b[0m\u001b[0m\n\u001b[0m",
      "\u001b[0;32m/opt/anaconda3/lib/python3.8/site-packages/pandas/core/frame.py\u001b[0m in \u001b[0;36m__init__\u001b[0;34m(self, data, index, columns, dtype, copy)\u001b[0m\n\u001b[1;32m    568\u001b[0m                     \u001b[0;32mif\u001b[0m \u001b[0mis_named_tuple\u001b[0m\u001b[0;34m(\u001b[0m\u001b[0mdata\u001b[0m\u001b[0;34m[\u001b[0m\u001b[0;36m0\u001b[0m\u001b[0;34m]\u001b[0m\u001b[0;34m)\u001b[0m \u001b[0;32mand\u001b[0m \u001b[0mcolumns\u001b[0m \u001b[0;32mis\u001b[0m \u001b[0;32mNone\u001b[0m\u001b[0;34m:\u001b[0m\u001b[0;34m\u001b[0m\u001b[0;34m\u001b[0m\u001b[0m\n\u001b[1;32m    569\u001b[0m                         \u001b[0mcolumns\u001b[0m \u001b[0;34m=\u001b[0m \u001b[0mdata\u001b[0m\u001b[0;34m[\u001b[0m\u001b[0;36m0\u001b[0m\u001b[0;34m]\u001b[0m\u001b[0;34m.\u001b[0m\u001b[0m_fields\u001b[0m\u001b[0;34m\u001b[0m\u001b[0;34m\u001b[0m\u001b[0m\n\u001b[0;32m--> 570\u001b[0;31m                     \u001b[0marrays\u001b[0m\u001b[0;34m,\u001b[0m \u001b[0mcolumns\u001b[0m \u001b[0;34m=\u001b[0m \u001b[0mto_arrays\u001b[0m\u001b[0;34m(\u001b[0m\u001b[0mdata\u001b[0m\u001b[0;34m,\u001b[0m \u001b[0mcolumns\u001b[0m\u001b[0;34m,\u001b[0m \u001b[0mdtype\u001b[0m\u001b[0;34m=\u001b[0m\u001b[0mdtype\u001b[0m\u001b[0;34m)\u001b[0m\u001b[0;34m\u001b[0m\u001b[0;34m\u001b[0m\u001b[0m\n\u001b[0m\u001b[1;32m    571\u001b[0m                     \u001b[0mcolumns\u001b[0m \u001b[0;34m=\u001b[0m \u001b[0mensure_index\u001b[0m\u001b[0;34m(\u001b[0m\u001b[0mcolumns\u001b[0m\u001b[0;34m)\u001b[0m\u001b[0;34m\u001b[0m\u001b[0;34m\u001b[0m\u001b[0m\n\u001b[1;32m    572\u001b[0m \u001b[0;34m\u001b[0m\u001b[0m\n",
      "\u001b[0;32m/opt/anaconda3/lib/python3.8/site-packages/pandas/core/internals/construction.py\u001b[0m in \u001b[0;36mto_arrays\u001b[0;34m(data, columns, coerce_float, dtype)\u001b[0m\n\u001b[1;32m    526\u001b[0m         \u001b[0;32mreturn\u001b[0m \u001b[0;34m[\u001b[0m\u001b[0;34m]\u001b[0m\u001b[0;34m,\u001b[0m \u001b[0;34m[\u001b[0m\u001b[0;34m]\u001b[0m  \u001b[0;31m# columns if columns is not None else []\u001b[0m\u001b[0;34m\u001b[0m\u001b[0;34m\u001b[0m\u001b[0m\n\u001b[1;32m    527\u001b[0m     \u001b[0;32mif\u001b[0m \u001b[0misinstance\u001b[0m\u001b[0;34m(\u001b[0m\u001b[0mdata\u001b[0m\u001b[0;34m[\u001b[0m\u001b[0;36m0\u001b[0m\u001b[0;34m]\u001b[0m\u001b[0;34m,\u001b[0m \u001b[0;34m(\u001b[0m\u001b[0mlist\u001b[0m\u001b[0;34m,\u001b[0m \u001b[0mtuple\u001b[0m\u001b[0;34m)\u001b[0m\u001b[0;34m)\u001b[0m\u001b[0;34m:\u001b[0m\u001b[0;34m\u001b[0m\u001b[0;34m\u001b[0m\u001b[0m\n\u001b[0;32m--> 528\u001b[0;31m         \u001b[0;32mreturn\u001b[0m \u001b[0m_list_to_arrays\u001b[0m\u001b[0;34m(\u001b[0m\u001b[0mdata\u001b[0m\u001b[0;34m,\u001b[0m \u001b[0mcolumns\u001b[0m\u001b[0;34m,\u001b[0m \u001b[0mcoerce_float\u001b[0m\u001b[0;34m=\u001b[0m\u001b[0mcoerce_float\u001b[0m\u001b[0;34m,\u001b[0m \u001b[0mdtype\u001b[0m\u001b[0;34m=\u001b[0m\u001b[0mdtype\u001b[0m\u001b[0;34m)\u001b[0m\u001b[0;34m\u001b[0m\u001b[0;34m\u001b[0m\u001b[0m\n\u001b[0m\u001b[1;32m    529\u001b[0m     \u001b[0;32melif\u001b[0m \u001b[0misinstance\u001b[0m\u001b[0;34m(\u001b[0m\u001b[0mdata\u001b[0m\u001b[0;34m[\u001b[0m\u001b[0;36m0\u001b[0m\u001b[0;34m]\u001b[0m\u001b[0;34m,\u001b[0m \u001b[0mabc\u001b[0m\u001b[0;34m.\u001b[0m\u001b[0mMapping\u001b[0m\u001b[0;34m)\u001b[0m\u001b[0;34m:\u001b[0m\u001b[0;34m\u001b[0m\u001b[0;34m\u001b[0m\u001b[0m\n\u001b[1;32m    530\u001b[0m         return _list_of_dict_to_arrays(\n",
      "\u001b[0;32m/opt/anaconda3/lib/python3.8/site-packages/pandas/core/internals/construction.py\u001b[0m in \u001b[0;36m_list_to_arrays\u001b[0;34m(data, columns, coerce_float, dtype)\u001b[0m\n\u001b[1;32m    566\u001b[0m     \u001b[0;31m# gh-26429 do not raise user-facing AssertionError\u001b[0m\u001b[0;34m\u001b[0m\u001b[0;34m\u001b[0m\u001b[0;34m\u001b[0m\u001b[0m\n\u001b[1;32m    567\u001b[0m     \u001b[0;32mtry\u001b[0m\u001b[0;34m:\u001b[0m\u001b[0;34m\u001b[0m\u001b[0;34m\u001b[0m\u001b[0m\n\u001b[0;32m--> 568\u001b[0;31m         \u001b[0mcolumns\u001b[0m \u001b[0;34m=\u001b[0m \u001b[0m_validate_or_indexify_columns\u001b[0m\u001b[0;34m(\u001b[0m\u001b[0mcontent\u001b[0m\u001b[0;34m,\u001b[0m \u001b[0mcolumns\u001b[0m\u001b[0;34m)\u001b[0m\u001b[0;34m\u001b[0m\u001b[0;34m\u001b[0m\u001b[0m\n\u001b[0m\u001b[1;32m    569\u001b[0m         \u001b[0mresult\u001b[0m \u001b[0;34m=\u001b[0m \u001b[0m_convert_object_array\u001b[0m\u001b[0;34m(\u001b[0m\u001b[0mcontent\u001b[0m\u001b[0;34m,\u001b[0m \u001b[0mdtype\u001b[0m\u001b[0;34m=\u001b[0m\u001b[0mdtype\u001b[0m\u001b[0;34m,\u001b[0m \u001b[0mcoerce_float\u001b[0m\u001b[0;34m=\u001b[0m\u001b[0mcoerce_float\u001b[0m\u001b[0;34m)\u001b[0m\u001b[0;34m\u001b[0m\u001b[0;34m\u001b[0m\u001b[0m\n\u001b[1;32m    570\u001b[0m     \u001b[0;32mexcept\u001b[0m \u001b[0mAssertionError\u001b[0m \u001b[0;32mas\u001b[0m \u001b[0me\u001b[0m\u001b[0;34m:\u001b[0m\u001b[0;34m\u001b[0m\u001b[0;34m\u001b[0m\u001b[0m\n",
      "\u001b[0;32m/opt/anaconda3/lib/python3.8/site-packages/pandas/core/internals/construction.py\u001b[0m in \u001b[0;36m_validate_or_indexify_columns\u001b[0;34m(content, columns)\u001b[0m\n\u001b[1;32m    688\u001b[0m         )\n\u001b[1;32m    689\u001b[0m \u001b[0;34m\u001b[0m\u001b[0m\n\u001b[0;32m--> 690\u001b[0;31m         \u001b[0;32mif\u001b[0m \u001b[0;32mnot\u001b[0m \u001b[0mis_mi_list\u001b[0m \u001b[0;32mand\u001b[0m \u001b[0mlen\u001b[0m\u001b[0;34m(\u001b[0m\u001b[0mcolumns\u001b[0m\u001b[0;34m)\u001b[0m \u001b[0;34m!=\u001b[0m \u001b[0mlen\u001b[0m\u001b[0;34m(\u001b[0m\u001b[0mcontent\u001b[0m\u001b[0;34m)\u001b[0m\u001b[0;34m:\u001b[0m  \u001b[0;31m# pragma: no cover\u001b[0m\u001b[0;34m\u001b[0m\u001b[0;34m\u001b[0m\u001b[0m\n\u001b[0m\u001b[1;32m    691\u001b[0m             \u001b[0;31m# caller's responsibility to check for this...\u001b[0m\u001b[0;34m\u001b[0m\u001b[0;34m\u001b[0m\u001b[0;34m\u001b[0m\u001b[0m\n\u001b[1;32m    692\u001b[0m             raise AssertionError(\n",
      "\u001b[0;31mTypeError\u001b[0m: object of type 'bool' has no len()"
     ]
    }
   ],
   "source": [
    "pd.DataFrame(list(zip(extKor, extEng)), columns=False)"
   ]
  },
  {
   "cell_type": "code",
   "execution_count": null,
   "id": "9e23769e-5edf-411a-b5b0-3ac80bb6aee6",
   "metadata": {},
   "outputs": [],
   "source": []
  }
 ],
 "metadata": {
  "kernelspec": {
   "display_name": "Python 3",
   "language": "python",
   "name": "python3"
  },
  "language_info": {
   "codemirror_mode": {
    "name": "ipython",
    "version": 3
   },
   "file_extension": ".py",
   "mimetype": "text/x-python",
   "name": "python",
   "nbconvert_exporter": "python",
   "pygments_lexer": "ipython3",
   "version": "3.8.8"
  }
 },
 "nbformat": 4,
 "nbformat_minor": 5
}
