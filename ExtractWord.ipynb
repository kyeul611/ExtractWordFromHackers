{
 "cells": [
  {
   "cell_type": "code",
   "execution_count": 12,
   "metadata": {},
   "outputs": [],
   "source": [
    "import re"
   ]
  },
  {
   "cell_type": "markdown",
   "metadata": {
    "jp-MarkdownHeadingCollapsed": true,
    "tags": []
   },
   "source": [
    "# Library 1 -> pdftotext"
   ]
  },
  {
   "cell_type": "code",
   "execution_count": 13,
   "metadata": {},
   "outputs": [],
   "source": [
    "import pdftotext"
   ]
  },
  {
   "cell_type": "code",
   "execution_count": 38,
   "metadata": {},
   "outputs": [],
   "source": [
    "file = open('./test.pdf', 'rb')\n",
    "fileReader = pdftotext.PDF(file)"
   ]
  },
  {
   "cell_type": "code",
   "execution_count": 44,
   "metadata": {},
   "outputs": [],
   "source": [
    "result = re.sub(\"[^a-z\\ ]\",\"\",fileReader[1]).split(' ')\n",
    "result = list(filter(None, result))\n",
    "result = result[2:-3]"
   ]
  },
  {
   "cell_type": "code",
   "execution_count": 46,
   "metadata": {},
   "outputs": [
    {
     "data": {
      "text/plain": [
       "['demonstration',\n",
       " 'benefit',\n",
       " 'exclusive',\n",
       " 'corporation',\n",
       " 'seasonal',\n",
       " 'legislation',\n",
       " 'deserve',\n",
       " 'prospective',\n",
       " 'coworker',\n",
       " 'follow',\n",
       " 'expertise',\n",
       " 'exception',\n",
       " 'wage',\n",
       " 'check',\n",
       " 'skillfully',\n",
       " 'upcoming',\n",
       " 'eligible',\n",
       " 'negative',\n",
       " 'remove',\n",
       " 'outstanding',\n",
       " 'apprehensive',\n",
       " 'payroll',\n",
       " 'efficiently',\n",
       " 'highly',\n",
       " 'sophisticated',\n",
       " 'resume',\n",
       " 'accountable',\n",
       " 'remind',\n",
       " 'reference',\n",
       " 'advantage',\n",
       " 'disturbing',\n",
       " 'antique',\n",
       " 'examine',\n",
       " 'collection',\n",
       " 'variety',\n",
       " 'edition',\n",
       " 'advanced',\n",
       " 'live',\n",
       " 'aware',\n",
       " 'industry']"
      ]
     },
     "execution_count": 46,
     "metadata": {},
     "output_type": "execute_result"
    }
   ],
   "source": [
    "final = []\n",
    "for i in range(0, len(result), 2):\n",
    "    final.append(result[i])\n",
    "for i in range(1, len(result), 2):\n",
    "    final.append(result[i])  \n",
    "final"
   ]
  },
  {
   "cell_type": "code",
   "execution_count": 35,
   "metadata": {},
   "outputs": [
    {
     "name": "stdout",
     "output_type": "stream",
     "text": [
      "['remain', 'remind', 'drastic', 'disregard', 'accompany', 'accountable', 'comparison', 'managerial', 'expertise', 'consequence', 'timely', 'diligent', 'conduct', 'notice', 'hire', 'foster', 'campaign', 'prosperity', 'candidate', 'disturbing']\n",
      "20\n"
     ]
    }
   ],
   "source": [
    "file = open('./test2.pdf', 'rb')\n",
    "fileReader = pdftotext.PDF(file)\n",
    "result = re.sub(\"[^a-z\\ ]\",\"\",fileReader[1]).split(' ')\n",
    "result = list(filter(None, result))\n",
    "result = result[2:-3]\n",
    "print(result)\n",
    "print(len(result))"
   ]
  },
  {
   "cell_type": "code",
   "execution_count": 47,
   "metadata": {},
   "outputs": [
    {
     "data": {
      "text/plain": [
       "[0, 2, 4, 6, 8, 1, 3, 5, 7, 9]"
      ]
     },
     "execution_count": 47,
     "metadata": {},
     "output_type": "execute_result"
    }
   ],
   "source": [
    "lst = list(range(10))\n",
    "odd = [word for word in range(0, len(lst), 2)]\n",
    "even = [word for word in range(1, len(lst), 2)]\n",
    "odd + even"
   ]
  },
  {
   "cell_type": "code",
   "execution_count": 16,
   "metadata": {},
   "outputs": [],
   "source": [
    "import os"
   ]
  },
  {
   "cell_type": "code",
   "execution_count": 36,
   "metadata": {},
   "outputs": [],
   "source": [
    "path = './test_papers'\n",
    "answersheet = []"
   ]
  },
  {
   "cell_type": "code",
   "execution_count": 37,
   "metadata": {},
   "outputs": [
    {
     "name": "stdout",
     "output_type": "stream",
     "text": [
      "** File list **\n",
      "test.pdf\n",
      "test2.pdf\n"
     ]
    }
   ],
   "source": [
    "listdir = os.listdir(path)\n",
    "        \n",
    "print(\"** File list **\")\n",
    "for file in listdir:\n",
    "    if file.split('.')[-1] == 'pdf':\n",
    "        print(file)\n",
    "        with open(os.path.join(path, file), 'rb') as pdf:\n",
    "            fileReader = pdftotext.PDF(pdf)\n",
    "        ext = re.sub(\"[^a-z\\ ]\",\"\", fileReader[1]).split(' ')\n",
    "        ext = list(filter(None, ext))\n",
    "        answersheet += [ext[word] for word in range(0, len(ext), 2)]\n",
    "        answersheet += [ext[word] for word in range(1, len(ext), 2)]\n"
   ]
  },
  {
   "cell_type": "code",
   "execution_count": null,
   "metadata": {
    "collapsed": true,
    "jupyter": {
     "outputs_hidden": true
    },
    "tags": []
   },
   "outputs": [
    {
     "data": {
      "text/plain": [
       "['',\n",
       " 'ay',\n",
       " '',\n",
       " '',\n",
       " 'ay',\n",
       " '',\n",
       " '',\n",
       " '',\n",
       " '',\n",
       " '',\n",
       " '',\n",
       " 'owered',\n",
       " 'by',\n",
       " '',\n",
       " 'wwwtcpdforg',\n",
       " 'remain',\n",
       " 'remind',\n",
       " 'drastic',\n",
       " 'disregardaccompany',\n",
       " 'accountablecomparisonmanagerial',\n",
       " 'expertise',\n",
       " 'consequence',\n",
       " '',\n",
       " 'timely',\n",
       " 'diligent',\n",
       " '',\n",
       " 'conduct',\n",
       " '',\n",
       " 'notice',\n",
       " 'hire',\n",
       " 'foster',\n",
       " '',\n",
       " 'campaign',\n",
       " 'prosperity',\n",
       " '',\n",
       " 'candidate',\n",
       " '',\n",
       " 'disturbing']"
      ]
     },
     "execution_count": 29,
     "metadata": {},
     "output_type": "execute_result"
    }
   ],
   "source": [
    "ext = re.sub(\"[^a-z\\ ]\",\"\", fileReader[1]).split(' ')\n",
    "ext"
   ]
  },
  {
   "cell_type": "code",
   "execution_count": 30,
   "metadata": {
    "tags": []
   },
   "outputs": [
    {
     "name": "stdout",
     "output_type": "stream",
     "text": [
      "['ay', 'ay', 'owered', 'by', 'wwwtcpdforg', 'remain', 'remind', 'drastic', 'disregardaccompany', 'accountablecomparisonmanagerial', 'expertise', 'consequence', 'timely', 'diligent', 'conduct', 'notice', 'hire', 'foster', 'campaign', 'prosperity', 'candidate', 'disturbing']\n"
     ]
    }
   ],
   "source": [
    "ext = list(filter(None, ext))\n",
    "print(ext)\n",
    "\n"
   ]
  },
  {
   "cell_type": "code",
   "execution_count": null,
   "metadata": {},
   "outputs": [],
   "source": [
    "odd = [ext[word] for word in range(0, len(ext), 2)]\n",
    "even = [ext[word] for word in range(1, len(ext), 2)]"
   ]
  },
  {
   "cell_type": "code",
   "execution_count": 38,
   "metadata": {
    "collapsed": true,
    "jupyter": {
     "outputs_hidden": true
    },
    "tags": []
   },
   "outputs": [
    {
     "data": {
      "text/plain": [
       "['ay',\n",
       " 'owered',\n",
       " 'wwwtcpdforg',\n",
       " 'benefit',\n",
       " 'corporation',\n",
       " 'sophisticated',\n",
       " 'resume',\n",
       " 'accountable',\n",
       " 'remind',\n",
       " 'reference',\n",
       " 'advantage',\n",
       " 'disturbing',\n",
       " 'wageexamine',\n",
       " 'collection',\n",
       " 'variety',\n",
       " 'edition',\n",
       " 'advanced',\n",
       " 'live',\n",
       " 'aware',\n",
       " 'ay',\n",
       " 'by',\n",
       " 'demonstrationapprehensive',\n",
       " 'payrollexclusiveefficiently',\n",
       " 'highlyseasonal',\n",
       " 'legislation',\n",
       " 'deserve',\n",
       " 'prospective',\n",
       " 'coworker',\n",
       " 'follow',\n",
       " 'expertise',\n",
       " 'exceptionantique',\n",
       " 'check',\n",
       " 'skillfully',\n",
       " 'upcoming',\n",
       " 'eligible',\n",
       " 'negative',\n",
       " 'remove',\n",
       " 'outstandingindustry',\n",
       " 'ay',\n",
       " 'owered',\n",
       " 'wwwtcpdforg',\n",
       " 'remind',\n",
       " 'disregardaccompany',\n",
       " 'expertise',\n",
       " 'timely',\n",
       " 'conduct',\n",
       " 'hire',\n",
       " 'campaign',\n",
       " 'candidate',\n",
       " 'ay',\n",
       " 'by',\n",
       " 'remain',\n",
       " 'drastic',\n",
       " 'accountablecomparisonmanagerial',\n",
       " 'consequence',\n",
       " 'diligent',\n",
       " 'notice',\n",
       " 'foster',\n",
       " 'prosperity',\n",
       " 'disturbing']"
      ]
     },
     "execution_count": 38,
     "metadata": {},
     "output_type": "execute_result"
    }
   ],
   "source": [
    "answersheet"
   ]
  },
  {
   "cell_type": "code",
   "execution_count": 43,
   "metadata": {},
   "outputs": [
    {
     "data": {
      "text/plain": [
       "'■ Day 01 ~ Day10\\r\\n■ 핵심빈출단어(표제어)\\r\\n\\r\\n※ 왼쪽의 우리말 뜻에 어울리는 영단어를 쓰세요.\\r\\n\\r\\nPowered by TCPDF (www.tcpdf.org)\\r\\n\\r\\n1\\r\\n\\r\\n계속 ~한\\r\\n상태이다\\r\\n\\r\\nremain\\r\\n\\r\\n2\\r\\n\\r\\n~에게 상기시키다,\\r\\n일깨우다\\r\\n\\r\\nremind\\r\\n\\r\\n3\\r\\n\\r\\n과감한; 급격한\\r\\n\\r\\ndrastic\\r\\n\\r\\n4\\r\\n\\r\\n소홀히 하다,\\r\\n무시하다\\r\\n\\r\\ndisregard\\r\\n\\r\\n5\\r\\n\\r\\n동행하다;\\r\\n동반하다\\r\\n\\r\\naccompany\\r\\n\\r\\n6\\r\\n\\r\\n책임이 있는\\r\\n\\r\\naccountable\\r\\n\\r\\n7\\r\\n\\r\\n비교\\r\\n\\r\\ncomparison\\r\\n\\r\\n8\\r\\n\\r\\n관리의\\r\\n\\r\\nmanagerial\\r\\n\\r\\n9\\r\\n\\r\\n전문 지식,\\r\\n전문기술\\r\\n\\r\\nexpertise\\r\\n\\r\\n10 결과\\r\\n\\r\\nconsequence\\r\\n\\r\\n11 시기적절한, 때를\\r\\n맞춘\\r\\n\\r\\ntimely\\r\\n\\r\\n12 성실한\\r\\n\\r\\ndiligent\\r\\n\\r\\n13 (업무 등을)\\r\\n수행하다\\r\\n\\r\\nconduct\\r\\n\\r\\n14 통지, 공고\\r\\n\\r\\nnotice\\r\\n\\r\\n15 고용하다\\r\\n\\r\\nhire\\r\\n\\r\\n16 촉진하다,\\r\\n육성하다\\r\\n\\r\\nfoster\\r\\n\\r\\n17 운동, 캠페인\\r\\n\\r\\ncampaign\\r\\n\\r\\n18 번영\\r\\n\\r\\nprosperity\\r\\n\\r\\n19 후보자, 지원자\\r\\n\\r\\ncandidate\\r\\n\\r\\n20 충격적인, 불안감을\\r\\n주는\\r\\n\\r\\ndisturbing\\r\\n\\r\\n20문제\\r\\n\\r\\n\\x0c'"
      ]
     },
     "execution_count": 43,
     "metadata": {},
     "output_type": "execute_result"
    }
   ],
   "source": [
    "fileReader[1]"
   ]
  },
  {
   "cell_type": "code",
   "execution_count": 122,
   "metadata": {},
   "outputs": [],
   "source": [
    "answersheet = []\n",
    "with open(os.path.join(path, 'test4.pdf'), 'rb') as pdf:\n",
    "    fileReader = pdftotext.PDF(pdf)\n",
    "ext = re.sub(\"[^a-z\\n\\ -]\",\"\", fileReader[1])\n",
    "ext1 = re.sub(\" +\",\" \", ext).split('\\n')\n",
    "ext2 = [word for word in ext1 if word != ' ' and word != '']\n",
    "ext3 = list(filter(None, ext2))[2:]\n",
    "# if len(ext2) > 20:\n",
    "#     answersheet += [ext2[word] for word in range(0, len(ext2), 2)]\n",
    "#     answersheet += [ext2[word] for word in range(1, len(ext2), 2)]\n",
    "# else:\n",
    "#     answersheet = ext2\n"
   ]
  },
  {
   "cell_type": "code",
   "execution_count": 125,
   "metadata": {},
   "outputs": [
    {
     "data": {
      "text/plain": [
       "' ay   ay\\n \\n\\nowered by  wwwtcpdforg\\n\\n\\n\\n      \\n\\n      \\n\\n\\n\\n \\n\\nin commemoration of\\n\\n\\n\\n  \\n\\nreach\\nones\\npotential\\n\\n\\n\\n \\n\\non purpose\\n\\n\\n\\n \\n\\ntake a long time\\n\\n\\n\\n \\n\\n\\nbe booked up\\n\\n\\n\\n \\n\\ninstrument\\n\\n\\n\\n \\n\\nnoteworthy\\n\\n\\n\\n \\n\\nwary of\\n\\n\\n\\n \\n\\n\\nmisleading\\n\\n\\n\\n \\n\\npetition\\n\\n\\n\\n \\n\\nsplash\\n\\n\\n\\n   \\n\\nvolatile\\n\\n\\n\\n\\n\\n\\ntrigger\\n\\n\\n\\n \\n \\n\\nin accordance with\\n\\n\\n\\n\\n\\n\\nrun a campaign\\n\\n\\n\\n \\n\\ntake an examination\\n\\n\\n\\n\\n\\nflower arrangement\\n\\n\\n\\n\\n\\ncommend\\n\\n  \\n\\npay raise\\n\\n\\n\\n \\n\\ntake action\\n\\n \\n\\n\\neditorial\\n\\n\\n\\n \\n\\nunplug\\n\\n \\n\\nalluring\\n\\n\\n\\n\\n\\ndrawer\\n\\n  \\n\\nexcellence\\n\\n\\n\\n \\n \\n\\ncontingency\\n\\n \\n\\nsluggish\\n\\n\\n\\n \\n\\nconcerning\\n\\n  \\n\\nstagnation\\n\\n\\n\\n   \\n\\nobsess about\\n\\n \\n\\ngift certificate\\n\\n\\n\\n    \\n\\nbusiness contacts\\n\\n \\n\\nwaiting room\\n\\n\\n\\n\\n\\nbe in the mood for -ing\\n\\n \\n\\n\\nzealous\\n\\n\\n\\n\\n\\nnationality\\n\\n  \\n\\nproof of employment\\n\\n\\n\\n\\n\\nfull time work\\n\\n  \\n\\nbrokerage\\n\\n\\n\\n \\n\\ntake turns\\n\\nfull\\n\\n'"
      ]
     },
     "execution_count": 125,
     "metadata": {},
     "output_type": "execute_result"
    }
   ],
   "source": [
    "ext"
   ]
  },
  {
   "cell_type": "code",
   "execution_count": 90,
   "metadata": {
    "tags": []
   },
   "outputs": [
    {
     "data": {
      "text/plain": [
       "['long-term',\n",
       " 'memoirs',\n",
       " 'waryof',\n",
       " 'candidate',\n",
       " 'donate',\n",
       " 'takeapart',\n",
       " 'interpersonalskills',\n",
       " 'atalltimes',\n",
       " 'popularly',\n",
       " 'taketheplaceof',\n",
       " 'day-to-dayoperation',\n",
       " 'lively',\n",
       " 'implement',\n",
       " 'informed',\n",
       " 'stadium',\n",
       " 'prerequisite',\n",
       " 'excellent',\n",
       " 'reporton',\n",
       " 'bebookedup',\n",
       " 'internship']"
      ]
     },
     "execution_count": 90,
     "metadata": {},
     "output_type": "execute_result"
    }
   ],
   "source": [
    "reach one’s full\n",
    "potential"
   ]
  },
  {
   "cell_type": "code",
   "execution_count": 51,
   "metadata": {},
   "outputs": [
    {
     "data": {
      "text/plain": [
       "' ay   ay owered by  wwwtcpdforg             demonstrationapprehensive benefit  payrollexclusiveefficiently corporation highlyseasonal  sophisticated legislation resume  deserve accountable prospective remind coworker reference  follow advantage  expertise disturbing exceptionantique  wageexamine  check  collection  skillfully variety  upcoming edition  eligible advanced negative live remove  aware  outstandingindustry'"
      ]
     },
     "execution_count": 51,
     "metadata": {},
     "output_type": "execute_result"
    }
   ],
   "source": [
    "re.sub(\"[^a-z\\ ]\",\"\", fileReader[1])"
   ]
  },
  {
   "cell_type": "code",
   "execution_count": 127,
   "metadata": {},
   "outputs": [],
   "source": [
    "import pandas as pd\n",
    "df = pd.DataFrame(ext3)"
   ]
  },
  {
   "cell_type": "code",
   "execution_count": 132,
   "metadata": {},
   "outputs": [],
   "source": [
    "df.to_csv('./test.csv', index=False)"
   ]
  },
  {
   "cell_type": "markdown",
   "metadata": {},
   "source": [
    "# Google SpreadSheet 연결"
   ]
  },
  {
   "cell_type": "code",
   "execution_count": null,
   "metadata": {},
   "outputs": [],
   "source": []
  }
 ],
 "metadata": {
  "kernelspec": {
   "display_name": "Python 3 (ipykernel)",
   "language": "python",
   "name": "python3"
  },
  "language_info": {
   "codemirror_mode": {
    "name": "ipython",
    "version": 3
   },
   "file_extension": ".py",
   "mimetype": "text/x-python",
   "name": "python",
   "nbconvert_exporter": "python",
   "pygments_lexer": "ipython3",
   "version": "3.8.5"
  }
 },
 "nbformat": 4,
 "nbformat_minor": 4
}
